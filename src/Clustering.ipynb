{
 "cells": [
  {
   "attachments": {},
   "cell_type": "markdown",
   "id": "d688617a",
   "metadata": {},
   "source": [
    "## Hierarchical clustering program using different distance measures"
   ]
  },
  {
   "attachments": {},
   "cell_type": "markdown",
   "id": "286f1b4c",
   "metadata": {},
   "source": [
    "#### Import all neccessary files and libraries"
   ]
  },
  {
   "cell_type": "code",
   "execution_count": null,
   "id": "cba77fbe",
   "metadata": {},
   "outputs": [],
   "source": [
    "# Reloads the local files if they change\n",
    "%load_ext autoreload\n",
    "%autoreload 2\n",
    "\n",
    "# import local files\n",
    "import Jaccard\n",
    "import Simrank\n",
    "import Log_processing\n",
    "import Clustering\n",
    "import Comparison\n",
    "import Label_Similarity\n",
    "import Role_Comparison\n",
    "\n",
    "import matplotlib.pyplot as plt"
   ]
  },
  {
   "cell_type": "markdown",
   "id": "9d255d52",
   "metadata": {},
   "source": [
    "#### Load the event logs"
   ]
  },
  {
   "cell_type": "code",
   "execution_count": null,
   "id": "57f292e5",
   "metadata": {},
   "outputs": [],
   "source": [
    "sepsis = Log_processing.get_log(\"../logs/sepsis_event_log.xes\")\n",
    "coselog = Log_processing.get_log(\"../logs/coselog.xes\")"
   ]
  },
  {
   "cell_type": "code",
   "execution_count": null,
   "id": "5d12153b",
   "metadata": {},
   "outputs": [],
   "source": [
    "bpic = Log_processing.get_log(\"../logs/BPI_Challenge_2013_incidents.xes\")\n",
    "road_traffic = Log_processing.get_log(\"../logs/Road_Traffic_Fine_Management_Process.xes\")"
   ]
  },
  {
   "cell_type": "markdown",
   "id": "586b7e57",
   "metadata": {},
   "source": [
    "#### Analyze the Sepsis event log"
   ]
  },
  {
   "cell_type": "code",
   "execution_count": null,
   "id": "8c12a640",
   "metadata": {},
   "outputs": [],
   "source": [
    "Comparison.show_jaccard_dendrograms_for_event_log(sepsis, \"Sepsis Clustering using Jaccard\", \"sepsis_jaccard.jpg\")"
   ]
  },
  {
   "cell_type": "code",
   "execution_count": null,
   "id": "ed2f1c2c",
   "metadata": {},
   "outputs": [],
   "source": [
    "Comparison.show_simrank_dendrograms_for_event_log(sepsis, \"Sepsis Clustering using Simrank\", \"sepsis_simrank.jpg\")"
   ]
  },
  {
   "cell_type": "code",
   "execution_count": null,
   "id": "349cc01d",
   "metadata": {},
   "outputs": [],
   "source": [
    "Comparison.show_n_gram_dendrograms_for_event_log(sepsis, \"Sepsis Clustering using N_grams\", \"sepsis_n_gram.jpg\")"
   ]
  },
  {
   "cell_type": "code",
   "execution_count": null,
   "id": "9df197db",
   "metadata": {},
   "outputs": [],
   "source": [
    "#Comparison.show_role_comparison_dendrograms_for_event_log(sepsis, \"case:concept:name\" \"#InsertRoleHere\", \"Sepsis Clustering using role comparison\", \"sepsis_role_comp.jpg\")"
   ]
  },
  {
   "cell_type": "code",
   "execution_count": null,
   "id": "14f161e8",
   "metadata": {},
   "outputs": [],
   "source": [
    "Comparison.show_label_similarity_dendrograms_for_event_log(sepsis, \"Sepsis Clustering using label similarity\", \"sepsis_label_sim.jpg\")"
   ]
  },
  {
   "cell_type": "markdown",
   "id": "f902bdc9",
   "metadata": {},
   "source": [
    "#### Analyze the Coselog event log"
   ]
  },
  {
   "cell_type": "code",
   "execution_count": null,
   "id": "6480634f",
   "metadata": {},
   "outputs": [],
   "source": [
    "Comparison.show_jaccard_dendrograms_for_event_log(coselog, \"Coselog Clustering using Jaccard\", \"coselog_jaccard.jpg\")"
   ]
  },
  {
   "cell_type": "code",
   "execution_count": null,
   "id": "d15f41c1",
   "metadata": {},
   "outputs": [],
   "source": [
    "Comparison.show_simrank_dendrograms_for_event_log(coselog, \"Coselog Clustering using Simrank\", \"coselog_simrank.jpg\")"
   ]
  },
  {
   "cell_type": "code",
   "execution_count": null,
   "id": "c931b813",
   "metadata": {},
   "outputs": [],
   "source": [
    "Comparison.show_n_gram_dendrograms_for_event_log(coselog, \"Coselog Clustering using N_grams\", \"coselog_n_gram.jpg\")"
   ]
  },
  {
   "cell_type": "code",
   "execution_count": null,
   "id": "02493ff3",
   "metadata": {},
   "outputs": [],
   "source": [
    "Comparison.show_role_comparison_dendrograms_for_event_log(coselog, \"concept:name\", \"case:responsible\", \"Coselog Clustering using role comparison\", \"coselog_role_comp.jpg\")"
   ]
  },
  {
   "cell_type": "code",
   "execution_count": null,
   "id": "36225e2e",
   "metadata": {},
   "outputs": [],
   "source": [
    "Comparison.show_label_similarity_dendrograms_for_event_log(coselog, \"Coselog Clustering using label similarity\", \"coselog_label_sim.jpg\")"
   ]
  },
  {
   "cell_type": "markdown",
   "id": "9522d363",
   "metadata": {},
   "source": [
    "#### Analyze the BPI Challenge event log"
   ]
  },
  {
   "cell_type": "code",
   "execution_count": null,
   "id": "d6c94dd7",
   "metadata": {},
   "outputs": [],
   "source": [
    "Comparison.show_jaccard_dendrograms_for_event_log(bpic, \"BPIC Clustering\", \"bpic.jpg\")"
   ]
  },
  {
   "cell_type": "code",
   "execution_count": null,
   "id": "ff248f51",
   "metadata": {},
   "outputs": [],
   "source": [
    "Comparison.show_simrank_dendrograms_for_event_log(bpic, \"BPIC Clustering using Simrank\", \"bpic_simrank.jpg\")"
   ]
  },
  {
   "cell_type": "code",
   "execution_count": null,
   "id": "ae73df83",
   "metadata": {},
   "outputs": [],
   "source": [
    "Comparison.show_n_gram_dendrograms_for_event_log(bpic, \"BPIC Clustering using N_grams\", \"bpic_n_gram.jpg\")"
   ]
  },
  {
   "cell_type": "code",
   "execution_count": null,
   "id": "36f389b6",
   "metadata": {},
   "outputs": [],
   "source": [
    "#Comparison.show_role_comparison_dendrograms_for_event_log(bpic, \"concept:name\", \"#InsertRole\", \"BPIC Clustering using role comparison\", \"bpic_role_comp.jpg\")"
   ]
  },
  {
   "cell_type": "code",
   "execution_count": null,
   "id": "73a48921",
   "metadata": {},
   "outputs": [],
   "source": [
    "Comparison.show_label_similarity_dendrograms_for_event_log(bpic, \"BPIC Clustering using label similarity\", \"bpic_label_sim.jpg\")"
   ]
  },
  {
   "cell_type": "markdown",
   "id": "52a9ea88",
   "metadata": {},
   "source": [
    "#### Analyze the Road traffic fine event log"
   ]
  },
  {
   "cell_type": "code",
   "execution_count": null,
   "id": "6a58d699",
   "metadata": {},
   "outputs": [],
   "source": [
    "Comparison.show_jaccard_dendrograms_for_event_log(road_traffic, \"Road traffic fines Clustering\", \"Road_traffic_fines.jpg\")"
   ]
  },
  {
   "cell_type": "code",
   "execution_count": null,
   "id": "66341ec4",
   "metadata": {},
   "outputs": [],
   "source": [
    "Comparison.show_simrank_dendrograms_for_event_log(road_traffic, \"Road traffic fines Clustering using Simrank\", \"road_traffic_simrank.jpg\")"
   ]
  },
  {
   "cell_type": "code",
   "execution_count": null,
   "id": "0911f123",
   "metadata": {},
   "outputs": [],
   "source": [
    "Comparison.show_n_gram_dendrograms_for_event_log(road_traffic, \"Road traffic fines Clustering using N_grams\", \"road_traffic_n_gram.jpg\")"
   ]
  },
  {
   "cell_type": "code",
   "execution_count": null,
   "id": "02dfa83f",
   "metadata": {},
   "outputs": [],
   "source": [
    "#Comparison.show_role_comparison_dendrograms_for_event_log(road_traffic, \"concept:name\", \"#InsertRole\", \"Road traffic fines Clustering using role comparison\", \"road_traffic_role_comp.jpg\")"
   ]
  },
  {
   "cell_type": "code",
   "execution_count": null,
   "id": "a6956ea2",
   "metadata": {},
   "outputs": [],
   "source": [
    "Comparison.show_label_similarity_dendrograms_for_event_log(road_traffic, \"Road traffic fines Clustering using label similarity\", \"road_traffic_label_sim.jpg\")"
   ]
  },
  {
   "cell_type": "markdown",
   "id": "1c93445d",
   "metadata": {},
   "source": [
    "#### Testing area"
   ]
  },
  {
   "cell_type": "code",
   "execution_count": null,
   "id": "cd1cce64",
   "metadata": {},
   "outputs": [],
   "source": [
    "# Testing\n",
    "'''\n",
    "log = Log_processing.get_log(\"../logs/sepsis_event_log.xes\")\n",
    "num_levels = 5\n",
    "\n",
    "simple_jaccard = Jaccard.Simple_Jaccard(log)\n",
    "weighted_jaccard = Jaccard.Weighted_Jaccard(log)\n",
    "simple_simrank = Simrank.Simple_Simrank(log)\n",
    "weighted_simrank = Simrank.Weighted_Simrank(log)\n",
    "\n",
    "simple_jaccard.perform_clustering(no_plot=True)\n",
    "weighted_jaccard.perform_clustering(no_plot=True)\n",
    "simple_simrank.perform_clustering(no_plot=True)\n",
    "weighted_simrank.perform_clustering(no_plot=True)\n",
    "\n",
    "Clustering.generate_hierarchy_file(simple_jaccard.get_linkage(), simple_jaccard.get_activities(), num_levels, \"output_sepsis_simple_jaccard.csv\")\n",
    "Clustering.generate_hierarchy_file(weighted_jaccard.get_linkage(), weighted_jaccard.get_activities(), num_levels, \"output_sepsis_weighted_jaccard.csv\")\n",
    "Clustering.generate_hierarchy_file(simple_simrank.get_linkage(), simple_simrank.get_activities(), num_levels, \"output_sepsis_simple_simrank.csv\")\n",
    "Clustering.generate_hierarchy_file(weighted_simrank.get_linkage(), weighted_simrank.get_activities(), num_levels, \"output_sepsis_weighted_simrank.csv\")\n",
    "\n",
    "\n",
    "log = Log_processing.get_log(\"../logs/BPI_Challenge_2013_incidents.xes\")\n",
    "num_levels = 5\n",
    "\n",
    "simple_jaccard = Jaccard.Simple_Jaccard(log)\n",
    "weighted_jaccard = Jaccard.Weighted_Jaccard(log)\n",
    "simple_simrank = Simrank.Simple_Simrank(log)\n",
    "weighted_simrank = Simrank.Weighted_Simrank(log)\n",
    "\n",
    "simple_jaccard.perform_clustering(no_plot=True)\n",
    "weighted_jaccard.perform_clustering(no_plot=True)\n",
    "simple_simrank.perform_clustering(no_plot=True)\n",
    "weighted_simrank.perform_clustering(no_plot=True)\n",
    "\n",
    "Clustering.generate_hierarchy_file(simple_jaccard.get_linkage(), simple_jaccard.get_activities(), num_levels, \"output_bpi_simple_jaccard.csv\")\n",
    "Clustering.generate_hierarchy_file(weighted_jaccard.get_linkage(), weighted_jaccard.get_activities(), num_levels, \"output_bpi_weighted_jaccard.csv\")\n",
    "Clustering.generate_hierarchy_file(simple_simrank.get_linkage(), simple_simrank.get_activities(), num_levels, \"output_bpi_simple_simrank.csv\")\n",
    "Clustering.generate_hierarchy_file(weighted_simrank.get_linkage(), weighted_simrank.get_activities(), num_levels, \"output_bpi_weighted_simrank.csv\")\n",
    "\n",
    "simple_jaccard = Jaccard.Simple_Jaccard(coselog)\n",
    "simple_jaccard.perform_clustering(no_plot=True)\n",
    "Clustering.generate_hierarchy_file_with_dummies(simple_jaccard.get_activities(), simple_jaccard.get_distance_matrix(), simple_jaccard.get_linkage(), \"out_sepsis_simple_jaccard_dummy.csv\")\n",
    "\n",
    "coselog = Log_processing.get_log(\"../logs/coselog.xes\")\n",
    "compare_jacc = Jaccard.Simple_Jaccard(coselog)\n",
    "compare_simrank = Simrank.Simple_Simrank(coselog)\n",
    "\n",
    "rand_scores = Comparison.compare_dendrogram_using_rand_score(compare_jacc, compare_simrank)\n",
    "mutual_info_scores = Comparison.compare_dendrogram_using_mutual_info_score(compare_jacc, compare_simrank)\n",
    "'''"
   ]
  }
 ],
 "metadata": {
  "kernelspec": {
   "display_name": "Python 3 (ipykernel)",
   "language": "python",
   "name": "python3"
  },
  "language_info": {
   "codemirror_mode": {
    "name": "ipython",
    "version": 3
   },
   "file_extension": ".py",
   "mimetype": "text/x-python",
   "name": "python",
   "nbconvert_exporter": "python",
   "pygments_lexer": "ipython3",
   "version": "3.10.12"
  }
 },
 "nbformat": 4,
 "nbformat_minor": 5
}
