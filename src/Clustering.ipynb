{
 "cells": [
  {
   "attachments": {},
   "cell_type": "markdown",
   "id": "d688617a",
   "metadata": {},
   "source": [
    "# Hierarchical clustering program using different distance measures"
   ]
  },
  {
   "attachments": {},
   "cell_type": "markdown",
   "id": "286f1b4c",
   "metadata": {},
   "source": [
    "Use pm4py for importing different event logs found in logs folder"
   ]
  },
  {
   "cell_type": "code",
   "execution_count": null,
   "id": "cba77fbe",
   "metadata": {},
   "outputs": [],
   "source": [
    "# Reloads the local files if they change\n",
    "%load_ext autoreload\n",
    "%autoreload 2\n",
    "\n",
    "# import local files\n",
    "import Jaccard\n",
    "import Simrank\n",
    "import Log_processing\n",
    "import Clustering\n",
    "\n",
    "import matplotlib.pyplot as plt"
   ]
  },
  {
   "cell_type": "code",
   "execution_count": null,
   "id": "277c08d0",
   "metadata": {},
   "outputs": [],
   "source": [
    "# TESTING\n",
    "def weighted_simrank(G, node1, node2, C=0.8, max_iterations=100, tolerance=1e-6):\n",
    "    if node1 == node2:\n",
    "        return 1.0\n",
    "\n",
    "    prev_sim = 0\n",
    "    sim = 1\n",
    "    iterations = 0\n",
    "\n",
    "    while abs(sim - prev_sim) > tolerance and iterations < max_iterations:\n",
    "        prev_sim = sim\n",
    "        neighbors1 = set(G.predecessors(node1))\n",
    "        neighbors2 = set(G.predecessors(node2))\n",
    "        sim = C / (len(neighbors1) * len(neighbors2)) * sum(G[node1][x]['weight'] * G[node2][y]['weight'] * weighted_simrank(G, x, y, C, max_iterations, tolerance) for x in neighbors1 for y in neighbors2)\n",
    "        iterations += 1\n",
    "\n",
    "    return sim\n",
    "\n",
    "def full_weighted_simrank(G):\n",
    "    similarities = {}\n",
    "    for node1 in G.nodes():\n",
    "        node_similarity = {}\n",
    "        for node2 in G.nodes():\n",
    "            node_similarity[node2] = weighted_simrank(G, node1, node2)\n",
    "        similarities[node1] = {}"
   ]
  },
  {
   "cell_type": "markdown",
   "id": "06f17e02",
   "metadata": {},
   "source": [
    "Analyze the Sepsis event log"
   ]
  },
  {
   "cell_type": "code",
   "execution_count": null,
   "id": "bc9fe5ec",
   "metadata": {},
   "outputs": [],
   "source": [
    "fig, ax = plt.subplots(2, 2, figsize=(20, 10))\n",
    "fig.suptitle(\"Sepsis clustering\")\n",
    "\n",
    "ax[0, 0].set_title(\"Simple Jaccard\")\n",
    "ax[0, 1].set_title(\"Weighted Jaccard\")\n",
    "ax[1, 0].set_title(\"Simple Simrank\")\n",
    "ax[1, 1].set_title(\"Weighted Simrank\")\n",
    "\n",
    "sepsis = Log_processing.get_log(\"../logs/sepsis_event_log.xes\")\n",
    "\n",
    "simple_jaccard_sepsis = Jaccard.Simple_Jaccard(sepsis)\n",
    "weighted_jaccard_sepsis = Jaccard.Weighted_Jaccard(sepsis)\n",
    "simple_simrank_sepsis = Simrank.Simple_Simrank(sepsis)\n",
    "weighted_simrank_sepsis = Simrank.Weighted_Simrank(sepsis)\n",
    "\n",
    "simple_jaccard_sepsis.perform_clustering(ax=ax[0, 0])\n",
    "weighted_jaccard_sepsis.perform_clustering(ax=ax[0, 1])\n",
    "simple_simrank_sepsis.perform_clustering(ax=ax[1, 0])\n",
    "weighted_simrank_sepsis.perform_clustering(ax=ax[1, 1])\n",
    "\n",
    "fig.tight_layout()\n",
    "plt.show()\n",
    "fig.savefig(\"../out/sepsis.jpg\")"
   ]
  },
  {
   "cell_type": "markdown",
   "id": "f902bdc9",
   "metadata": {},
   "source": [
    "Analyze the Coselog event log"
   ]
  },
  {
   "cell_type": "code",
   "execution_count": null,
   "id": "6480634f",
   "metadata": {},
   "outputs": [],
   "source": [
    "fig, ax = plt.subplots(2, 2, figsize=(20, 10))\n",
    "fig.suptitle(\"Coselog clustering\")\n",
    "\n",
    "ax[0, 0].set_title(\"Simple Jaccard\")\n",
    "ax[0, 1].set_title(\"Weighted Jaccard\")\n",
    "ax[1, 0].set_title(\"Simple Simrank\")\n",
    "ax[1, 1].set_title(\"Weighted Simrank\")\n",
    "\n",
    "coselog = Log_processing.get_log(\"../logs/coselog.xes\")\n",
    "\n",
    "simple_jaccard_coselog = Jaccard.Simple_Jaccard(coselog)\n",
    "weighted_jaccard_coselog = Jaccard.Weighted_Jaccard(coselog)\n",
    "simple_simrank_coselog = Simrank.Simple_Simrank(coselog)\n",
    "weighted_simrank_coselog = Simrank.Weighted_Simrank(coselog)\n",
    "\n",
    "simple_jaccard_coselog.perform_clustering(ax=ax[0, 0])\n",
    "weighted_jaccard_coselog.perform_clustering(ax=ax[0, 1])\n",
    "simple_simrank_coselog.perform_clustering(ax=ax[1, 0])\n",
    "weighted_simrank_coselog.perform_clustering(ax=ax[1, 1])\n",
    "\n",
    "fig.tight_layout()\n",
    "plt.show()\n",
    "fig.savefig(\"../out/coselog.jpg\")"
   ]
  },
  {
   "cell_type": "markdown",
   "id": "9522d363",
   "metadata": {},
   "source": [
    "Analyze the BPI Challenge event log"
   ]
  },
  {
   "cell_type": "code",
   "execution_count": null,
   "id": "d6c94dd7",
   "metadata": {},
   "outputs": [],
   "source": [
    "fig, ax = plt.subplots(2, 2, figsize=(20, 10))\n",
    "fig.suptitle(\"BPIC clustering\")\n",
    "\n",
    "ax[0, 0].set_title(\"Simple Jaccard\")\n",
    "ax[0, 1].set_title(\"Weighted Jaccard\")\n",
    "ax[1, 0].set_title(\"Simple Simrank\")\n",
    "ax[1, 1].set_title(\"Weighted Simrank\")\n",
    "\n",
    "bpic = Log_processing.get_log(\"../logs/BPI_Challenge_2013_incidents.xes\")\n",
    "\n",
    "simple_jaccard_bpic = Jaccard.Simple_Jaccard(bpic)\n",
    "weighted_jaccard_bpic = Jaccard.Weighted_Jaccard(bpic)\n",
    "simple_simrank_bpic = Simrank.Simple_Simrank(bpic)\n",
    "weighted_simrank_bpic = Simrank.Weighted_Simrank(bpic)\n",
    "\n",
    "simple_jaccard_bpic.perform_clustering(ax=ax[0, 0])\n",
    "weighted_jaccard_bpic.perform_clustering(ax=ax[0, 1])\n",
    "simple_simrank_bpic.perform_clustering(ax=ax[1, 0])\n",
    "weighted_simrank_bpic.perform_clustering(ax=ax[1, 1])\n",
    "\n",
    "fig.tight_layout()\n",
    "plt.show()\n",
    "fig.savefig(\"../out/bpic.jpg\")"
   ]
  },
  {
   "cell_type": "markdown",
   "id": "52a9ea88",
   "metadata": {},
   "source": [
    "Analyze the Road traffic fine event log"
   ]
  },
  {
   "cell_type": "code",
   "execution_count": null,
   "id": "6a58d699",
   "metadata": {},
   "outputs": [],
   "source": [
    "fig, ax = plt.subplots(2, 2, figsize=(20, 10))\n",
    "fig.suptitle(\"Road traffic fine clustering\")\n",
    "\n",
    "ax[0, 0].set_title(\"Simple Jaccard\")\n",
    "ax[0, 1].set_title(\"Weighted Jaccard\")\n",
    "ax[1, 0].set_title(\"Simple Simrank\")\n",
    "ax[1, 1].set_title(\"Weighted Simrank\")\n",
    "\n",
    "road_traffic = Log_processing.get_log(\"../logs/Road_Traffic_Fine_Management_Process.xes\")\n",
    "\n",
    "simple_jaccard_road_traffic = Jaccard.Simple_Jaccard(road_traffic)\n",
    "weighted_jaccard_road_traffic = Jaccard.Weighted_Jaccard(road_traffic)\n",
    "simple_simrank_road_traffic = Simrank.Simple_Simrank(road_traffic)\n",
    "weighted_simrank_road_traffic = Simrank.Weighted_Simrank(road_traffic)\n",
    "\n",
    "simple_jaccard_road_traffic.perform_clustering(ax=ax[0, 0])\n",
    "weighted_jaccard_road_traffic.perform_clustering(ax=ax[0, 1])\n",
    "simple_simrank_road_traffic.perform_clustering(ax=ax[1, 0])\n",
    "weighted_simrank_road_traffic.perform_clustering(ax=ax[1, 1])\n",
    "\n",
    "fig.tight_layout()\n",
    "plt.show()\n",
    "fig.savefig(\"../out/road_traffic_fines.jpg\")"
   ]
  }
 ],
 "metadata": {
  "kernelspec": {
   "display_name": "Python 3 (ipykernel)",
   "language": "python",
   "name": "python3"
  },
  "language_info": {
   "codemirror_mode": {
    "name": "ipython",
    "version": 3
   },
   "file_extension": ".py",
   "mimetype": "text/x-python",
   "name": "python",
   "nbconvert_exporter": "python",
   "pygments_lexer": "ipython3",
   "version": "3.6.9"
  }
 },
 "nbformat": 4,
 "nbformat_minor": 5
}
