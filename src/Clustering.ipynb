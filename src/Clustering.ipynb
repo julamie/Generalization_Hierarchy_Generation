{
 "cells": [
  {
   "attachments": {},
   "cell_type": "markdown",
   "id": "d688617a",
   "metadata": {},
   "source": [
    "# Hierarchical clustering program using different distance measures"
   ]
  },
  {
   "attachments": {},
   "cell_type": "markdown",
   "id": "286f1b4c",
   "metadata": {},
   "source": [
    "Use pm4py for importing different event logs found in logs folder"
   ]
  },
  {
   "cell_type": "code",
   "execution_count": null,
   "id": "cba77fbe",
   "metadata": {},
   "outputs": [],
   "source": [
    "# Reloads the local files if they change\n",
    "%load_ext autoreload\n",
    "%autoreload 2\n",
    "\n",
    "# import local files\n",
    "import Jaccard\n",
    "import Simrank\n",
    "import Log_processing\n",
    "import Clustering\n",
    "import Comparison\n",
    "\n",
    "import matplotlib.pyplot as plt"
   ]
  },
  {
   "cell_type": "code",
   "execution_count": null,
   "id": "277c08d0",
   "metadata": {},
   "outputs": [],
   "source": [
    "# TESTING\n",
    "def weighted_simrank(G, node1, node2, C=0.8, max_iterations=100, tolerance=1e-6):\n",
    "    if node1 == node2:\n",
    "        return 1.0\n",
    "\n",
    "    prev_sim = 0\n",
    "    sim = 1\n",
    "    iterations = 0\n",
    "\n",
    "    while abs(sim - prev_sim) > tolerance and iterations < max_iterations:\n",
    "        prev_sim = sim\n",
    "        neighbors1 = set(G.predecessors(node1))\n",
    "        neighbors2 = set(G.predecessors(node2))\n",
    "        sim = C / (len(neighbors1) * len(neighbors2)) * sum(G[node1][x]['weight'] * G[node2][y]['weight'] * weighted_simrank(G, x, y, C, max_iterations, tolerance) for x in neighbors1 for y in neighbors2)\n",
    "        iterations += 1\n",
    "\n",
    "    return sim\n",
    "\n",
    "def full_weighted_simrank(G):\n",
    "    similarities = {}\n",
    "    for node1 in G.nodes():\n",
    "        node_similarity = {}\n",
    "        for node2 in G.nodes():\n",
    "            node_similarity[node2] = weighted_simrank(G, node1, node2)\n",
    "        similarities[node1] = {}"
   ]
  },
  {
   "cell_type": "markdown",
   "id": "586b7e57",
   "metadata": {},
   "source": [
    "Analyze the Sepsis event log"
   ]
  },
  {
   "cell_type": "code",
   "execution_count": null,
   "id": "8c12a640",
   "metadata": {},
   "outputs": [],
   "source": [
    "sepsis = Log_processing.get_log(\"../logs/sepsis_event_log.xes\")\n",
    "Comparison.show_dendrograms_for_event_log(sepsis, \"Sepsis Clustering\", \"sepsis.jpg\")"
   ]
  },
  {
   "cell_type": "markdown",
   "id": "f902bdc9",
   "metadata": {},
   "source": [
    "Analyze the Coselog event log"
   ]
  },
  {
   "cell_type": "code",
   "execution_count": null,
   "id": "6480634f",
   "metadata": {},
   "outputs": [],
   "source": [
    "coselog = Log_processing.get_log(\"../logs/coselog.xes\")\n",
    "Comparison.show_dendrograms_for_event_log(coselog, \"Coselog Clustering\", \"coselog.jpg\")"
   ]
  },
  {
   "cell_type": "markdown",
   "id": "9522d363",
   "metadata": {},
   "source": [
    "Analyze the BPI Challenge event log"
   ]
  },
  {
   "cell_type": "code",
   "execution_count": null,
   "id": "d6c94dd7",
   "metadata": {},
   "outputs": [],
   "source": [
    "bpic = Log_processing.get_log(\"../logs/BPI_Challenge_2013_incidents.xes\")\n",
    "Comparison.show_dendrograms_for_event_log(bpic, \"BPIC Clustering\", \"bpic.jpg\")"
   ]
  },
  {
   "cell_type": "markdown",
   "id": "52a9ea88",
   "metadata": {},
   "source": [
    "Analyze the Road traffic fine event log"
   ]
  },
  {
   "cell_type": "code",
   "execution_count": null,
   "id": "6a58d699",
   "metadata": {},
   "outputs": [],
   "source": [
    "road_traffic = Log_processing.get_log(\"../logs/Road_Traffic_Fine_Management_Process.xes\")\n",
    "Comparison.show_dendrograms_for_event_log(road_traffic, \"Road traffic fines Clustering\", \"Road_traffic_fines.jpg\")"
   ]
  },
  {
   "cell_type": "code",
   "execution_count": null,
   "id": "cd1cce64",
   "metadata": {},
   "outputs": [],
   "source": [
    "# Testing\n",
    "'''\n",
    "log = Log_processing.get_log(\"../logs/sepsis_event_log.xes\")\n",
    "num_levels = 5\n",
    "\n",
    "simple_jaccard = Jaccard.Simple_Jaccard(log)\n",
    "weighted_jaccard = Jaccard.Weighted_Jaccard(log)\n",
    "simple_simrank = Simrank.Simple_Simrank(log)\n",
    "weighted_simrank = Simrank.Weighted_Simrank(log)\n",
    "\n",
    "simple_jaccard.perform_clustering(no_plot=True)\n",
    "weighted_jaccard.perform_clustering(no_plot=True)\n",
    "simple_simrank.perform_clustering(no_plot=True)\n",
    "weighted_simrank.perform_clustering(no_plot=True)\n",
    "\n",
    "Clustering.generate_hierarchy_file(simple_jaccard.get_linkage(), simple_jaccard.get_activities(), num_levels, \"output_sepsis_simple_jaccard.csv\")\n",
    "Clustering.generate_hierarchy_file(weighted_jaccard.get_linkage(), weighted_jaccard.get_activities(), num_levels, \"output_sepsis_weighted_jaccard.csv\")\n",
    "Clustering.generate_hierarchy_file(simple_simrank.get_linkage(), simple_simrank.get_activities(), num_levels, \"output_sepsis_simple_simrank.csv\")\n",
    "Clustering.generate_hierarchy_file(weighted_simrank.get_linkage(), weighted_simrank.get_activities(), num_levels, \"output_sepsis_weighted_simrank.csv\")\n",
    "'''\n",
    "\n",
    "log = Log_processing.get_log(\"../logs/BPI_Challenge_2013_incidents.xes\")\n",
    "num_levels = 5\n",
    "\n",
    "simple_jaccard = Jaccard.Simple_Jaccard(log)\n",
    "weighted_jaccard = Jaccard.Weighted_Jaccard(log)\n",
    "simple_simrank = Simrank.Simple_Simrank(log)\n",
    "weighted_simrank = Simrank.Weighted_Simrank(log)\n",
    "\n",
    "simple_jaccard.perform_clustering(no_plot=True)\n",
    "weighted_jaccard.perform_clustering(no_plot=True)\n",
    "simple_simrank.perform_clustering(no_plot=True)\n",
    "weighted_simrank.perform_clustering(no_plot=True)\n",
    "\n",
    "Clustering.generate_hierarchy_file(simple_jaccard.get_linkage(), simple_jaccard.get_activities(), num_levels, \"output_bpi_simple_jaccard.csv\")\n",
    "Clustering.generate_hierarchy_file(weighted_jaccard.get_linkage(), weighted_jaccard.get_activities(), num_levels, \"output_bpi_weighted_jaccard.csv\")\n",
    "Clustering.generate_hierarchy_file(simple_simrank.get_linkage(), simple_simrank.get_activities(), num_levels, \"output_bpi_simple_simrank.csv\")\n",
    "Clustering.generate_hierarchy_file(weighted_simrank.get_linkage(), weighted_simrank.get_activities(), num_levels, \"output_bpi_weighted_simrank.csv\")"
   ]
  },
  {
   "cell_type": "code",
   "execution_count": null,
   "id": "fb28b611",
   "metadata": {},
   "outputs": [],
   "source": [
    "Comparison.show_tanglegram(Jaccard.Simple_Jaccard(road_traffic), Jaccard.Weighted_Jaccard(road_traffic))"
   ]
  },
  {
   "cell_type": "code",
   "execution_count": null,
   "id": "9b6622f9",
   "metadata": {},
   "outputs": [],
   "source": [
    "coselog = Log_processing.get_log(\"../logs/coselog.xes\")\n",
    "compare_jacc = Jaccard.Simple_Jaccard(coselog)\n",
    "compare_simrank = Simrank.Simple_Simrank(coselog)\n",
    "\n",
    "rand_scores = Comparison.compare_dendrogram_using_rand_score(compare_jacc, compare_simrank)\n",
    "mutual_info_scores = Comparison.compare_dendrogram_using_mutual_info_score(compare_jacc, compare_simrank)"
   ]
  }
 ],
 "metadata": {
  "kernelspec": {
   "display_name": "Python 3 (ipykernel)",
   "language": "python",
   "name": "python3"
  },
  "language_info": {
   "codemirror_mode": {
    "name": "ipython",
    "version": 3
   },
   "file_extension": ".py",
   "mimetype": "text/x-python",
   "name": "python",
   "nbconvert_exporter": "python",
   "pygments_lexer": "ipython3",
   "version": "3.6.9"
  }
 },
 "nbformat": 4,
 "nbformat_minor": 5
}
