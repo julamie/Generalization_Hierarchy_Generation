{
 "cells": [
  {
   "attachments": {},
   "cell_type": "markdown",
   "id": "d688617a",
   "metadata": {},
   "source": [
    "# Hierarchical clustering program using different distance measures"
   ]
  },
  {
   "attachments": {},
   "cell_type": "markdown",
   "id": "286f1b4c",
   "metadata": {},
   "source": [
    "Use pm4py for importing different event logs found in logs folder"
   ]
  },
  {
   "cell_type": "code",
   "execution_count": null,
   "id": "cba77fbe",
   "metadata": {},
   "outputs": [],
   "source": [
    "%load_ext autoreload\n",
    "%autoreload 2\n",
    "\n",
    "import pandas as pd\n",
    "import pm4py\n",
    "import networkx as nx\n",
    "import numpy as np\n",
    "from scipy.cluster.hierarchy import dendrogram, linkage\n",
    "from scipy.spatial.distance import squareform\n",
    "import pprint\n",
    "\n",
    "# import local files\n",
    "import Jaccard\n",
    "import Simrank\n",
    "import Log_processing\n",
    "import Clustering"
   ]
  },
  {
   "cell_type": "code",
   "execution_count": null,
   "id": "277c08d0",
   "metadata": {},
   "outputs": [],
   "source": [
    "# TESTING\n",
    "\n",
    "def weighted_simrank(G, node1, node2, C=0.8, max_iterations=100, tolerance=1e-6):\n",
    "    if node1 == node2:\n",
    "        return 1.0\n",
    "\n",
    "    prev_sim = 0\n",
    "    sim = 1\n",
    "    iterations = 0\n",
    "\n",
    "    while abs(sim - prev_sim) > tolerance and iterations < max_iterations:\n",
    "        prev_sim = sim\n",
    "        neighbors1 = set(G.predecessors(node1))\n",
    "        neighbors2 = set(G.predecessors(node2))\n",
    "        sim = C / (len(neighbors1) * len(neighbors2)) * sum(G[node1][x]['weight'] * G[node2][y]['weight'] * weighted_simrank(G, x, y, C, max_iterations, tolerance) for x in neighbors1 for y in neighbors2)\n",
    "        iterations += 1\n",
    "\n",
    "    return sim\n",
    "\n",
    "def full_weighted_simrank(G):\n",
    "    similarities = {}\n",
    "    for node1 in G.nodes():\n",
    "        node_similarity = {}\n",
    "        for node2 in G.nodes():\n",
    "            node_similarity[node2] = weighted_simrank(G, node1, node2)\n",
    "        similarities[node1] = {}\n"
   ]
  },
  {
   "cell_type": "code",
   "execution_count": null,
   "id": "bc9fe5ec",
   "metadata": {},
   "outputs": [],
   "source": [
    "weighted_jaccard_coselog = jaccard.Weighted_Jaccard(\"../logs/coselog.xes\")\n",
    "weighted_jaccard_coselog.perform_clustering(verbose=True)"
   ]
  },
  {
   "cell_type": "code",
   "execution_count": null,
   "id": "d6c94dd7",
   "metadata": {},
   "outputs": [],
   "source": [
    "simple_simrank_sepsis = Simrank.Simple_Simrank(\"../logs/sepsis_event_log.xes\")\n",
    "simple_simrank_sepsis.perform_clustering()"
   ]
  },
  {
   "cell_type": "code",
   "execution_count": null,
   "id": "6a58d699",
   "metadata": {},
   "outputs": [],
   "source": [
    "weighted_simrank_sepsis = Simrank.Weighted_Simrank(\"../logs/sepsis_event_log.xes\")\n",
    "weighted_simrank_sepsis.perform_clustering()"
   ]
  },
  {
   "cell_type": "code",
   "execution_count": null,
   "id": "5d281c8c",
   "metadata": {},
   "outputs": [],
   "source": [
    "simple_jaccard = Jaccard.Simple_Jaccard(\"../logs/sepsis_event_log.xes\")\n",
    "simple_jaccard.perform_clustering(verbose=True)"
   ]
  },
  {
   "cell_type": "code",
   "execution_count": null,
   "id": "bacd0926",
   "metadata": {},
   "outputs": [],
   "source": [
    "coselog_simple_jaccard = Jaccard.Simple_Jaccard(\"../logs/coselog.xes\")\n",
    "coselog_simple_jaccard.perform_clustering()"
   ]
  },
  {
   "cell_type": "code",
   "execution_count": null,
   "id": "ae3d6352",
   "metadata": {},
   "outputs": [],
   "source": [
    "bpic_simple_jaccard = Jaccard.Simple_Jaccard(\"../logs/Road_Traffic_Fine_Management_Process.xes\")\n",
    "bpic_simple_jaccard.perform_clustering()"
   ]
  },
  {
   "cell_type": "code",
   "execution_count": null,
   "id": "8050a557",
   "metadata": {},
   "outputs": [],
   "source": [
    "simple_jaccard_filtered = Jaccard.Simple_Jaccard(\"../logs/sepsis_event_log.xes\", filtered=True, num_top_k=62)\n",
    "simple_jaccard_filtered.perform_clustering(verbose=True)"
   ]
  },
  {
   "cell_type": "code",
   "execution_count": null,
   "id": "3aa9bdcd",
   "metadata": {},
   "outputs": [],
   "source": [
    "simple_jaccard_highly_filtered = Jaccard.Simple_Jaccard(\"../logs/sepsis_event_log.xes\", filtered=True, num_top_k=11)\n",
    "simple_jaccard_highly_filtered.perform_clustering(verbose=True)"
   ]
  }
 ],
 "metadata": {
  "kernelspec": {
   "display_name": "Python 3 (ipykernel)",
   "language": "python",
   "name": "python3"
  },
  "language_info": {
   "codemirror_mode": {
    "name": "ipython",
    "version": 3
   },
   "file_extension": ".py",
   "mimetype": "text/x-python",
   "name": "python",
   "nbconvert_exporter": "python",
   "pygments_lexer": "ipython3",
   "version": "3.6.9"
  }
 },
 "nbformat": 4,
 "nbformat_minor": 5
}
